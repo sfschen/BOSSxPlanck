{
 "cells": [
  {
   "cell_type": "code",
   "execution_count": 1,
   "id": "96a101e6-7240-4e44-828e-693d97865e33",
   "metadata": {},
   "outputs": [],
   "source": [
    "import numpy as np\n",
    "import time\n",
    "import sys\n",
    "\n",
    "from matplotlib import pyplot as plt\n",
    "from scipy.interpolate import interp1d\n",
    "\n",
    "from classy import Class"
   ]
  },
  {
   "cell_type": "code",
   "execution_count": null,
   "id": "42ffa6b4-2acd-46eb-afea-3b50f3b76933",
   "metadata": {},
   "outputs": [],
   "source": []
  },
  {
   "cell_type": "code",
   "execution_count": 2,
   "id": "b19b5f07-512f-452a-a8eb-b586f1455fed",
   "metadata": {},
   "outputs": [],
   "source": [
    "# First make sure we can generate halofit power spectra from Class\n",
    "def chi_ls(OmegaM, h):\n",
    "\n",
    "    lnAs = 2.8\n",
    "    \n",
    "    omega_b = 0.02242\n",
    "    ns = 0.9665\n",
    "\n",
    "    nnu = 1\n",
    "    nur = 2.033\n",
    "    mnu = 0.06\n",
    "    omega_nu = 0.0106 * mnu\n",
    "        \n",
    "    omega_c = (OmegaM - omega_b/h**2 - omega_nu/h**2) * h**2\n",
    "\n",
    "    pkparams = {\n",
    "            'A_s': np.exp(lnAs)*1e-10,\n",
    "            'n_s': ns,\n",
    "            'h': h,\n",
    "            'N_ur': nur,\n",
    "            'N_ncdm': nnu,\n",
    "            'm_ncdm': mnu,\n",
    "            'tau_reio': 0.0568,\n",
    "            'omega_b': omega_b,\n",
    "            'omega_cdm': omega_c}\n",
    "\n",
    "    #t1 = time.time()\n",
    "    pkclass = Class()\n",
    "    pkclass.set(pkparams)\n",
    "    pkclass.compute()\n",
    "    #t2 = time.time()\n",
    "    #print(t2-t1)\n",
    "    \n",
    "    thermo = pkclass.get_thermodynamics()\n",
    "    bg = pkclass.get_background()\n",
    "    \n",
    "    chi_func = interp1d(bg['z'],bg['comov. dist.'],kind='cubic')\n",
    "    \n",
    "    return chi_func(thermo['z'][np.argmax(thermo['g [Mpc^-1]'])]) * h"
   ]
  },
  {
   "cell_type": "code",
   "execution_count": 3,
   "id": "ee27a757-8e40-40ab-89ad-2a5c4710f62f",
   "metadata": {},
   "outputs": [
    {
     "data": {
      "text/plain": [
       "9407.213752114458"
      ]
     },
     "execution_count": 3,
     "metadata": {},
     "output_type": "execute_result"
    }
   ],
   "source": [
    "chi_ls(0.31,0.68)"
   ]
  },
  {
   "cell_type": "code",
   "execution_count": null,
   "id": "7b6769a2-1467-4439-9027-f66ae87a44d9",
   "metadata": {},
   "outputs": [],
   "source": []
  },
  {
   "cell_type": "code",
   "execution_count": 4,
   "id": "70c81075-96bd-4841-9b95-a2c56fbac07f",
   "metadata": {},
   "outputs": [],
   "source": [
    "# Load data per z:\n",
    "# These are settings for OmegaM, h, lnAs\n",
    "param_str = ['omegam', 'h']\n",
    "x0s = [0.31, 0.68]\n",
    "dxs = [0.01, 0.01]\n",
    "\n",
    "order = 3\n",
    "Nparams = len(x0s)\n",
    "\n",
    "template = np.arange(-order,order+1,1)\n",
    "Npoints = 2*order + 1\n",
    "grid_axes = [ dx*template + x0 for x0, dx in zip(x0s,dxs)]"
   ]
  },
  {
   "cell_type": "code",
   "execution_count": 5,
   "id": "23006cd8-b774-40a6-83b5-6ff71048b2ac",
   "metadata": {},
   "outputs": [
    {
     "data": {
      "text/plain": [
       "[array([0.28, 0.29, 0.3 , 0.31, 0.32, 0.33, 0.34]),\n",
       " array([0.65, 0.66, 0.67, 0.68, 0.69, 0.7 , 0.71])]"
      ]
     },
     "execution_count": 5,
     "metadata": {},
     "output_type": "execute_result"
    }
   ],
   "source": [
    "grid_axes"
   ]
  },
  {
   "cell_type": "code",
   "execution_count": 6,
   "id": "79a0aa57-35a7-44bb-a125-4716f7ecdb5b",
   "metadata": {},
   "outputs": [],
   "source": [
    "center_ii = (order,)*Nparams\n",
    "chigrid = np.zeros( (Npoints,)*Nparams)\n",
    "\n",
    "for ii in range(Npoints):\n",
    "    for jj in range(Npoints):\n",
    "        #print(ii,jj)\n",
    "        OmegaM, h = grid_axes[0][ii], grid_axes[1][jj]\n",
    "        chigrid[ii,jj] = chi_ls(OmegaM, h)"
   ]
  },
  {
   "cell_type": "code",
   "execution_count": 7,
   "id": "5b4b0483-daec-4158-a9f7-26aace2b1393",
   "metadata": {},
   "outputs": [],
   "source": [
    "# Now compute the derivatives\n",
    "from taylor_approximation import compute_derivatives, taylor_approximate\n",
    "derivs = compute_derivatives(chigrid, dxs, center_ii, 5)"
   ]
  },
  {
   "cell_type": "code",
   "execution_count": null,
   "id": "64d8f9b7-6fcd-4f20-8c96-f038bcb0e142",
   "metadata": {},
   "outputs": [],
   "source": []
  },
  {
   "cell_type": "code",
   "execution_count": 8,
   "id": "00d041c1-8b6b-4ae0-bc96-6d94aa92bc9e",
   "metadata": {},
   "outputs": [
    {
     "name": "stdout",
     "output_type": "stream",
     "text": [
      "0.0008513927459716797\n"
     ]
    }
   ],
   "source": [
    "# Try Emulating!\n",
    "test_point = [0.35, 0.75]\n",
    "\n",
    "import time\n",
    "t1 = time.time()\n",
    "chitest = taylor_approximate(test_point, x0s, derivs, order=3)\n",
    "t2 = time.time()\n",
    "print(t2-t1)"
   ]
  },
  {
   "cell_type": "code",
   "execution_count": 9,
   "id": "61cf5329-e3e9-47a9-a907-6354813c743d",
   "metadata": {},
   "outputs": [
    {
     "name": "stdout",
     "output_type": "stream",
     "text": [
      "8965.04766293233 -0.0003369296414293954\n"
     ]
    }
   ],
   "source": [
    "print(chitest, chitest/chi_ls(*test_point)-1)"
   ]
  },
  {
   "cell_type": "code",
   "execution_count": null,
   "id": "df0bb22f-8fdb-440a-aab1-913915ff2f56",
   "metadata": {},
   "outputs": [],
   "source": []
  },
  {
   "cell_type": "code",
   "execution_count": 10,
   "id": "65d01e6c-3aa9-4638-9453-32b74372fd0b",
   "metadata": {},
   "outputs": [],
   "source": [
    "# Save a json file\n",
    "import json\n",
    "import os\n",
    "\n",
    "basedir = os.getcwd()\n",
    "\n",
    "listo = [ dd.tolist() for dd in derivs ]\n",
    "# and add them to the dictionary.\n",
    "emu_dict = {'params': param_str,\\\n",
    "            'x0': x0s,\\\n",
    "            'derivs': listo}\n",
    "\n",
    "# Write the results to file.\n",
    "outfile   = basedir + '/emu/chi_ls.json'\n",
    "json_file = open(outfile, 'w')\n",
    "json.dump(emu_dict, json_file)\n",
    "json_file.close()\n",
    "#"
   ]
  },
  {
   "cell_type": "code",
   "execution_count": null,
   "id": "6e9a1c73-055a-4944-a78b-9d6f69727ab2",
   "metadata": {},
   "outputs": [],
   "source": []
  },
  {
   "cell_type": "code",
   "execution_count": 11,
   "id": "b5ad9f7e-f7ba-496e-a93e-3fc74f392057",
   "metadata": {},
   "outputs": [
    {
     "data": {
      "text/plain": [
       "8965.04766293233"
      ]
     },
     "execution_count": 11,
     "metadata": {},
     "output_type": "execute_result"
    }
   ],
   "source": [
    "# test emulator\n",
    "from emulator_chils import Chi_LS\n",
    "\n",
    "chifunc = Chi_LS(outfile)\n",
    "chifunc(test_point)"
   ]
  },
  {
   "cell_type": "code",
   "execution_count": 15,
   "id": "6911e588-1d62-42fc-bad4-fbd3bf1ff3a5",
   "metadata": {},
   "outputs": [
    {
     "data": {
      "text/plain": [
       "-0.0003369296414293954"
      ]
     },
     "execution_count": 15,
     "metadata": {},
     "output_type": "execute_result"
    }
   ],
   "source": [
    "chifunc(test_point)/chi_ls(*test_point)-1"
   ]
  },
  {
   "cell_type": "code",
   "execution_count": null,
   "id": "100d4ee0-ec48-4292-aed1-a8770f9c989c",
   "metadata": {},
   "outputs": [],
   "source": []
  },
  {
   "cell_type": "code",
   "execution_count": null,
   "id": "4707002a-2670-4fa1-8715-3834d5bdf586",
   "metadata": {},
   "outputs": [],
   "source": []
  }
 ],
 "metadata": {
  "kernelspec": {
   "display_name": "findiff",
   "language": "python",
   "name": "findiff"
  },
  "language_info": {
   "codemirror_mode": {
    "name": "ipython",
    "version": 3
   },
   "file_extension": ".py",
   "mimetype": "text/x-python",
   "name": "python",
   "nbconvert_exporter": "python",
   "pygments_lexer": "ipython3",
   "version": "3.8.8"
  }
 },
 "nbformat": 4,
 "nbformat_minor": 5
}
