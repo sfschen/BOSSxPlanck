{
 "cells": [
  {
   "cell_type": "code",
   "execution_count": 1,
   "id": "0980a9c2-9ab9-454b-8022-bdc39300c072",
   "metadata": {},
   "outputs": [],
   "source": [
    "import sys, os\n",
    "import numpy as np\n",
    "import matplotlib.pyplot as plt\n",
    "#%matplotlib inline"
   ]
  },
  {
   "cell_type": "code",
   "execution_count": 2,
   "id": "de5cd8d6-bee2-4893-aae9-30835be34dbf",
   "metadata": {},
   "outputs": [],
   "source": [
    "os.environ['COBAYA_NOMPI'] = 'True'\n",
    "from cobaya.yaml          import yaml_load_file\n",
    "from cobaya.samplers.mcmc import plot_progress\n",
    "#\n",
    "from getdist.mcsamples    import MCSamplesFromCobaya\n",
    "from getdist.mcsamples    import loadMCSamples\n",
    "import getdist.plots      as     gdplt\n",
    "\n",
    "\n",
    "from cobaya.model import get_model\n",
    "\n",
    "sys.path.append('/global/cscratch1/sd/sfschen/BOSSxPlanck/')\n",
    "sys.path.append('/global/cscratch1/sd/sfschen/BOSSxPlanck/emulator/')\n",
    "sys.path.append('/global/cscratch1/sd/sfschen/BOSSxPlanck/rsd_likelihood/')\n",
    "sys.path.append('/global/cscratch1/sd/sfschen/BOSSxPlanck/gxk_likelihood/')\n",
    "#\n",
    "import os"
   ]
  },
  {
   "cell_type": "code",
   "execution_count": null,
   "id": "f4d7a7f2-282b-4da5-bbea-142c06d79301",
   "metadata": {},
   "outputs": [],
   "source": []
  },
  {
   "cell_type": "code",
   "execution_count": 3,
   "id": "39109ce3-fd3c-46d1-8458-7f822cf26b19",
   "metadata": {},
   "outputs": [
    {
     "name": "stdout",
     "output_type": "stream",
     "text": [
      "[model] *WARNING* Ignored blocks/options: ['sampler', 'output', 'stop_on_error']\n",
      "[parameterization] *WARNING* There are repeated parameter labels: {'SN^{N3}': ['SN_NGCz3', 'SN_SGCz3']}\n",
      "Loading Taylor series.\n",
      "['z3'] ['/global/cscratch1/sd/sfschen/boss_data_renorm/xi/z3.xi']\n",
      "['NGCz3', 'SGCz3'] ['/global/cscratch1/sd/sfschen/boss_data_renorm/pk/pk_NGC_z3.dat', '/global/cscratch1/sd/sfschen/boss_data_renorm/pk/pk_SGC_z3.dat']\n",
      "We are here!\n"
     ]
    }
   ],
   "source": [
    "info = yaml_load_file(\"joint_z3_lcdm.yaml\")\n",
    "model = get_model(info)"
   ]
  },
  {
   "cell_type": "code",
   "execution_count": null,
   "id": "a6234cab-d2ac-4071-ac00-5a6a0ae10eff",
   "metadata": {},
   "outputs": [],
   "source": []
  },
  {
   "cell_type": "code",
   "execution_count": 107,
   "id": "b462db8e-eba1-4bdb-bb06-10511ccb6734",
   "metadata": {},
   "outputs": [],
   "source": [
    "pars = {'H0': 71.957642,\n",
    " 'omegam': 0.30624422,\n",
    " 'logA': 2.7559452999999996,\n",
    " 'b1_NGCz3': 1.2879399,\n",
    " 'b2_NGCz3': -1.6734879,\n",
    " 'bs_NGCz3': 2.6070984,\n",
    " 'alpha0_NGCz3': 27.3449,\n",
    " 'alpha2_NGCz3': -10.436179,\n",
    " 'SN0_NGCz3': -718.57285,\n",
    " 'SN2_NGCz3': -2354.3215,\n",
    " 'alpha_x_NGCz3': -1.5083223999999997,\n",
    " 'smag_NGCz3': 0.91977681,\n",
    " 'b1_SGCz3': 1.3055484,\n",
    " 'b2_SGCz3': 0.30626086,\n",
    " 'bs_SGCz3': 0.52783089,\n",
    " 'alpha0_SGCz3': 14.346956,\n",
    " 'alpha2_SGCz3': -4.709547799999999,\n",
    " 'SN0_SGCz3': -1445.2167,\n",
    " 'SN2_SGCz3': -55322.03599999999,\n",
    " 'alpha_x_SGCz3': 6.3628728,\n",
    " 'smag_SGCz3': 0.98791825,\n",
    " 'B1_z3': 1.5349626,\n",
    " 'F_z3': 1.0959386,\n",
    " 'M0_z3': 0.0023621726000000003,\n",
    " 'M1_z3': -0.11851115,\n",
    " 'Q0_z3': -0.005235214,\n",
    " 'Q1_z3': 0.7994913}\n",
    "\n",
    "pars_list = pars.keys()"
   ]
  },
  {
   "cell_type": "code",
   "execution_count": 52,
   "id": "21ddd6de-da72-4194-909a-8b5c4c319b96",
   "metadata": {},
   "outputs": [
    {
     "data": {
      "text/plain": [
       "dict_keys(['joint_boss_likelihoods_emu_lnA.FullShapePlusBAOEmu_Z3', 'gxk_likelihood.GxKLikelihood'])"
      ]
     },
     "execution_count": 52,
     "metadata": {},
     "output_type": "execute_result"
    }
   ],
   "source": [
    "model.likelihood.keys()"
   ]
  },
  {
   "cell_type": "code",
   "execution_count": 5,
   "id": "c0415f8a-ca47-4454-8e9b-dee18b3cf60d",
   "metadata": {},
   "outputs": [],
   "source": [
    "model.logposterior(pars)\n",
    "glik = model.likelihood['gxk_likelihood.GxKLikelihood']\n",
    "rlik = model.likelihood['joint_boss_likelihoods_emu_lnA.FullShapePlusBAOEmu_Z3']"
   ]
  },
  {
   "cell_type": "code",
   "execution_count": null,
   "id": "74d4cc8b-5e9c-4151-b6aa-618c612bb4d1",
   "metadata": {},
   "outputs": [],
   "source": []
  },
  {
   "cell_type": "code",
   "execution_count": 94,
   "id": "367c87d0-c01d-466f-a31b-393b0e9652cc",
   "metadata": {},
   "outputs": [],
   "source": [
    "dPs = {}\n",
    "Fishers = {}\n",
    "\n",
    "for lik in model.likelihood.keys():\n",
    "    dPs[lik] = {}\n",
    "    Fishers[lik] = {}"
   ]
  },
  {
   "cell_type": "code",
   "execution_count": null,
   "id": "9c335803-3222-48ea-b244-dd8f62ba22e7",
   "metadata": {},
   "outputs": [],
   "source": []
  },
  {
   "cell_type": "code",
   "execution_count": null,
   "id": "72b2ef3c-2ca1-436d-b1ab-9958a24b91be",
   "metadata": {},
   "outputs": [],
   "source": []
  },
  {
   "cell_type": "code",
   "execution_count": 108,
   "id": "2b6264d2-52ff-4fc7-8e7f-7211cf21003f",
   "metadata": {},
   "outputs": [],
   "source": [
    "err = 0.05\n",
    "\n",
    "for lik in model.likelihood.keys():\n",
    "    \n",
    "    for param_str in pars_list:\n",
    "        param = pars[param_str]\n",
    "    \n",
    "        pars_plus = pars.copy()\n",
    "        pars_plus[param_str] = param + err\n",
    "    \n",
    "        pars_minus = pars.copy()\n",
    "        pars_minus[param_str] = param - err\n",
    "\n",
    "        model.logposterior(pars_plus)\n",
    "        obs_plus = 1.0 * model.likelihood[lik].obs\n",
    "        \n",
    "        model.logposterior(pars_minus)\n",
    "        obs_minus = 1.0 * model.likelihood[lik].obs\n",
    "        \n",
    "        dPs[lik][param_str] = (obs_plus - obs_minus)/(2*err)"
   ]
  },
  {
   "cell_type": "code",
   "execution_count": null,
   "id": "a1b3f110-b166-45f4-ba64-51a4e15b53dc",
   "metadata": {},
   "outputs": [],
   "source": []
  },
  {
   "cell_type": "code",
   "execution_count": 109,
   "id": "7a84c558-eebd-468c-a0ee-ac7ec3767b22",
   "metadata": {},
   "outputs": [
    {
     "name": "stdout",
     "output_type": "stream",
     "text": [
      "joint_boss_likelihoods_emu_lnA.FullShapePlusBAOEmu_Z3\n",
      "gxk_likelihood.GxKLikelihood\n"
     ]
    }
   ],
   "source": [
    "for lik in model.likelihood.keys():\n",
    "    \n",
    "    print(lik)\n",
    "    \n",
    "    Fij = np.zeros( (len(pars.keys()),)*2 )\n",
    "    \n",
    "    for ii, param_ii in enumerate(pars_list):\n",
    "        for jj, param_jj in enumerate(pars.keys()):\n",
    "            \n",
    "            Fij[ii,jj] = np.dot(dPs[lik][param_ii],\\\n",
    "                                np.dot(model.likelihood[lik].cinv,\\\n",
    "                                       dPs[lik][param_jj]))\n",
    "            \n",
    "    Fishers[lik] = np.array(Fij)\n",
    "    \n",
    "    \n",
    "            "
   ]
  },
  {
   "cell_type": "code",
   "execution_count": 110,
   "id": "cba93001-c711-41b3-8ed8-949b3a79373d",
   "metadata": {},
   "outputs": [
    {
     "name": "stdout",
     "output_type": "stream",
     "text": [
      "joint_boss_likelihoods_emu_lnA.FullShapePlusBAOEmu_Z3\n",
      "gxk_likelihood.GxKLikelihood\n"
     ]
    }
   ],
   "source": [
    "Ftot = 0\n",
    "for lik in model.likelihood.keys():\n",
    "    print(lik)\n",
    "    Ftot += Fishers[lik]"
   ]
  },
  {
   "cell_type": "code",
   "execution_count": null,
   "id": "294d4847-18b9-4731-94cc-f66ce4ee2f46",
   "metadata": {},
   "outputs": [],
   "source": []
  },
  {
   "cell_type": "code",
   "execution_count": 113,
   "id": "c7efdcc7-961d-4c66-8fbf-88471bb94d58",
   "metadata": {},
   "outputs": [
    {
     "data": {
      "text/plain": [
       "array([1.32350622e+00, 1.78541875e-02, 3.21641270e-01, 6.98578011e-01,\n",
       "       7.25991260e+00, 1.15716934e+01, 1.17107097e+02, 1.00425429e+02,\n",
       "       8.54500136e+03, 5.40194123e+04, 3.43836873e+01, 3.13680145e+00,\n",
       "       5.84205598e-01, 9.93373546e+00, 1.39075160e+01, 1.64847982e+02,\n",
       "       1.70841772e+02, 1.76067068e+04, 7.72567100e+04, 3.79246271e+01,\n",
       "       3.56417151e+00, 5.10028756e-01, 5.16761595e-01, 1.19367410e-03,\n",
       "       1.41593884e-01, 2.19328346e-03, 2.32617599e-01])"
      ]
     },
     "execution_count": 113,
     "metadata": {},
     "output_type": "execute_result"
    }
   ],
   "source": [
    "np.diag(np.linalg.inv(Ftot))**0.5"
   ]
  },
  {
   "cell_type": "code",
   "execution_count": 117,
   "id": "9662240a-b2d9-420f-9eaf-86a45a6ffa3e",
   "metadata": {},
   "outputs": [],
   "source": [
    "\n",
    "np.savetxt(info['output'] + '.covini', np.linalg.inv(Ftot))"
   ]
  },
  {
   "cell_type": "code",
   "execution_count": null,
   "id": "b0b5ef4d-79da-4804-a9d3-fb64058b260e",
   "metadata": {},
   "outputs": [],
   "source": []
  },
  {
   "cell_type": "code",
   "execution_count": null,
   "id": "e0b74519-bb3b-41d8-98fd-8c7065559793",
   "metadata": {},
   "outputs": [],
   "source": []
  }
 ],
 "metadata": {
  "kernelspec": {
   "display_name": "Cobaya-env",
   "language": "python",
   "name": "cobaya"
  },
  "language_info": {
   "codemirror_mode": {
    "name": "ipython",
    "version": 3
   },
   "file_extension": ".py",
   "mimetype": "text/x-python",
   "name": "python",
   "nbconvert_exporter": "python",
   "pygments_lexer": "ipython3",
   "version": "3.8.5"
  }
 },
 "nbformat": 4,
 "nbformat_minor": 5
}
